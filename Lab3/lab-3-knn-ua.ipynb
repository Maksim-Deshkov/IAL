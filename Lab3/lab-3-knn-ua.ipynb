{
 "cells": [
  {
   "cell_type": "markdown",
   "metadata": {
    "id": "oKR3aPRr50cx"
   },
   "source": [
    "## Лабораторна 3: метод найближчих сусідів (kNN)"
   ]
  },
  {
   "cell_type": "markdown",
   "metadata": {
    "id": "VXM8j8GO50c7"
   },
   "source": [
    "На даній лабораторні йроботі ми будемо створювати модель для передбачення пасажирів на \"Титаніку\", які вижили (це є класичним начальним прикладом змагання на платформі Kaggle [соревнование](https://www.kaggle.com/c/titanic)).\n",
    "\n",
    "![Титанік](http://staff.mmcs.sfedu.ru/~sguda/MachineLearning/titanic.png)\n",
    "\n",
    "## 1"
   ]
  },
  {
   "cell_type": "markdown",
   "metadata": {
    "id": "jrBaIPt750c9"
   },
   "source": [
    "Завантажте дані про загинувших у катастрофі з \"Титаніком\". Цільовою ознакою тут є факт рятування пасажирів. Погляньте на дані"
   ]
  },
  {
   "cell_type": "code",
   "execution_count": 1,
   "metadata": {
    "id": "lxcP1Eaf50c_"
   },
   "outputs": [],
   "source": [
    "import pandas as pd"
   ]
  },
  {
   "cell_type": "code",
   "execution_count": 2,
   "metadata": {
    "id": "p3KwqPW350dC"
   },
   "outputs": [],
   "source": [
    "data = pd.read_csv('data.csv')\n",
    "nc_data = pd.read_csv('data.csv')"
   ]
  },
  {
   "cell_type": "code",
   "execution_count": 5,
   "metadata": {
    "id": "1t_lbuz_50dD"
   },
   "outputs": [
    {
     "data": {
      "text/html": [
       "<div>\n",
       "<style scoped>\n",
       "    .dataframe tbody tr th:only-of-type {\n",
       "        vertical-align: middle;\n",
       "    }\n",
       "\n",
       "    .dataframe tbody tr th {\n",
       "        vertical-align: top;\n",
       "    }\n",
       "\n",
       "    .dataframe thead th {\n",
       "        text-align: right;\n",
       "    }\n",
       "</style>\n",
       "<table border=\"1\" class=\"dataframe\">\n",
       "  <thead>\n",
       "    <tr style=\"text-align: right;\">\n",
       "      <th></th>\n",
       "      <th>PassengerId</th>\n",
       "      <th>Survived</th>\n",
       "      <th>Pclass</th>\n",
       "      <th>Age</th>\n",
       "      <th>SibSp</th>\n",
       "      <th>Parch</th>\n",
       "      <th>Fare</th>\n",
       "    </tr>\n",
       "  </thead>\n",
       "  <tbody>\n",
       "    <tr>\n",
       "      <th>count</th>\n",
       "      <td>891.000000</td>\n",
       "      <td>891.000000</td>\n",
       "      <td>891.000000</td>\n",
       "      <td>714.000000</td>\n",
       "      <td>891.000000</td>\n",
       "      <td>891.000000</td>\n",
       "      <td>891.000000</td>\n",
       "    </tr>\n",
       "    <tr>\n",
       "      <th>mean</th>\n",
       "      <td>446.000000</td>\n",
       "      <td>0.383838</td>\n",
       "      <td>2.308642</td>\n",
       "      <td>29.699118</td>\n",
       "      <td>0.523008</td>\n",
       "      <td>0.381594</td>\n",
       "      <td>32.204208</td>\n",
       "    </tr>\n",
       "    <tr>\n",
       "      <th>std</th>\n",
       "      <td>257.353842</td>\n",
       "      <td>0.486592</td>\n",
       "      <td>0.836071</td>\n",
       "      <td>14.526497</td>\n",
       "      <td>1.102743</td>\n",
       "      <td>0.806057</td>\n",
       "      <td>49.693429</td>\n",
       "    </tr>\n",
       "    <tr>\n",
       "      <th>min</th>\n",
       "      <td>1.000000</td>\n",
       "      <td>0.000000</td>\n",
       "      <td>1.000000</td>\n",
       "      <td>0.420000</td>\n",
       "      <td>0.000000</td>\n",
       "      <td>0.000000</td>\n",
       "      <td>0.000000</td>\n",
       "    </tr>\n",
       "    <tr>\n",
       "      <th>25%</th>\n",
       "      <td>223.500000</td>\n",
       "      <td>0.000000</td>\n",
       "      <td>2.000000</td>\n",
       "      <td>20.125000</td>\n",
       "      <td>0.000000</td>\n",
       "      <td>0.000000</td>\n",
       "      <td>7.910400</td>\n",
       "    </tr>\n",
       "    <tr>\n",
       "      <th>50%</th>\n",
       "      <td>446.000000</td>\n",
       "      <td>0.000000</td>\n",
       "      <td>3.000000</td>\n",
       "      <td>28.000000</td>\n",
       "      <td>0.000000</td>\n",
       "      <td>0.000000</td>\n",
       "      <td>14.454200</td>\n",
       "    </tr>\n",
       "    <tr>\n",
       "      <th>75%</th>\n",
       "      <td>668.500000</td>\n",
       "      <td>1.000000</td>\n",
       "      <td>3.000000</td>\n",
       "      <td>38.000000</td>\n",
       "      <td>1.000000</td>\n",
       "      <td>0.000000</td>\n",
       "      <td>31.000000</td>\n",
       "    </tr>\n",
       "    <tr>\n",
       "      <th>max</th>\n",
       "      <td>891.000000</td>\n",
       "      <td>1.000000</td>\n",
       "      <td>3.000000</td>\n",
       "      <td>80.000000</td>\n",
       "      <td>8.000000</td>\n",
       "      <td>6.000000</td>\n",
       "      <td>512.329200</td>\n",
       "    </tr>\n",
       "  </tbody>\n",
       "</table>\n",
       "</div>"
      ],
      "text/plain": [
       "       PassengerId    Survived      Pclass         Age       SibSp  \\\n",
       "count   891.000000  891.000000  891.000000  714.000000  891.000000   \n",
       "mean    446.000000    0.383838    2.308642   29.699118    0.523008   \n",
       "std     257.353842    0.486592    0.836071   14.526497    1.102743   \n",
       "min       1.000000    0.000000    1.000000    0.420000    0.000000   \n",
       "25%     223.500000    0.000000    2.000000   20.125000    0.000000   \n",
       "50%     446.000000    0.000000    3.000000   28.000000    0.000000   \n",
       "75%     668.500000    1.000000    3.000000   38.000000    1.000000   \n",
       "max     891.000000    1.000000    3.000000   80.000000    8.000000   \n",
       "\n",
       "            Parch        Fare  \n",
       "count  891.000000  891.000000  \n",
       "mean     0.381594   32.204208  \n",
       "std      0.806057   49.693429  \n",
       "min      0.000000    0.000000  \n",
       "25%      0.000000    7.910400  \n",
       "50%      0.000000   14.454200  \n",
       "75%      0.000000   31.000000  \n",
       "max      6.000000  512.329200  "
      ]
     },
     "execution_count": 5,
     "metadata": {},
     "output_type": "execute_result"
    }
   ],
   "source": [
    "data.describe()"
   ]
  },
  {
   "cell_type": "code",
   "execution_count": null,
   "metadata": {
    "id": "2ofuwwsQ50dF"
   },
   "outputs": [],
   "source": []
  },
  {
   "cell_type": "markdown",
   "metadata": {
    "id": "BcuG67lk50dG"
   },
   "source": [
    "Для спрощення виключіт пасажирів з невідомим віком та наново пронумеруйте рядки\n",
    "\n",
    "*Функції, що можуть бйти корисні при розв'язанні: `.dropna(subset=['Age']), .reset_index(drop=True)`*"
   ]
  },
  {
   "cell_type": "code",
   "execution_count": 3,
   "metadata": {
    "id": "BgjtzHFp50dH"
   },
   "outputs": [],
   "source": [
    "data = data.dropna(subset=['Age'])"
   ]
  },
  {
   "cell_type": "markdown",
   "metadata": {
    "id": "mbnaPRrF50dJ"
   },
   "source": [
    "## 2\n",
    "\n",
    "побудуйте графік розсіювання з віком в якості вісі абсцисс та вартістю білету, в якості вісі ординат. Червоним відмітьте загинувших, зеленим - тих пасажирів, які врятувались. Окремо побудуйте два графіки: для жінок та для чоловіків. \n",
    "\n",
    "Зробіть а занотуйте висновок: чи виконується для даної множини гіпотеза компактності?"
   ]
  },
  {
   "cell_type": "code",
   "execution_count": 4,
   "metadata": {
    "id": "eKY0WaYD50dK"
   },
   "outputs": [],
   "source": [
    "%matplotlib inline\n",
    "import matplotlib.pyplot as plt"
   ]
  },
  {
   "cell_type": "code",
   "execution_count": 26,
   "metadata": {
    "id": "FCPnn-BG50dL"
   },
   "outputs": [
    {
     "data": {
      "text/plain": [
       "Text(0.5, 1.0, 'Female Scatter Plot')"
      ]
     },
     "execution_count": 26,
     "metadata": {},
     "output_type": "execute_result"
    },
    {
     "data": {
      "image/png": "[encoded data removed]",
      "text/plain": [
       "<Figure size 640x480 with 1 Axes>"
      ]
     },
     "metadata": {},
     "output_type": "display_data"
    }
   ],
   "source": [
    "female = data[data['Sex'] == 'female']\n",
    "\n",
    "colors = {1: 'green', 0: 'red'}\n",
    "color_mapping = [colors[s] for s in female['Survived']]\n",
    "\n",
    "\n",
    "plt.scatter(female['Age'], female['Fare'], c=color_mapping, label='Female Passengers')\n",
    "plt.xlabel('Age')\n",
    "plt.ylabel('Ticket Fare')\n",
    "plt.title('Female Scatter Plot')"
   ]
  },
  {
   "cell_type": "code",
   "execution_count": 27,
   "metadata": {
    "id": "KSUBlySQ50dM"
   },
   "outputs": [
    {
     "data": {
      "text/plain": [
       "Text(0.5, 1.0, 'Male Scatter Plot')"
      ]
     },
     "execution_count": 27,
     "metadata": {},
     "output_type": "execute_result"
    },
    {
     "data": {
      "image/png": "[encoded data removed]",
      "text/plain": [
       "<Figure size 640x480 with 1 Axes>"
      ]
     },
     "metadata": {},
     "output_type": "display_data"
    }
   ],
   "source": [
    "male = data[data['Sex'] == 'male']\n",
    "\n",
    "colors = {1: 'green', 0: 'red'}\n",
    "color_mapping = [colors[s] for s in male['Survived']]\n",
    "\n",
    "\n",
    "plt.scatter(male['Age'], male['Fare'], c=color_mapping, label='Male Passengers')\n",
    "plt.xlabel('Age')\n",
    "plt.ylabel('Ticket Fare')\n",
    "plt.title('Male Scatter Plot')"
   ]
  },
  {
   "cell_type": "markdown",
   "metadata": {
    "id": "dL25IRjy50dN"
   },
   "source": [
    "## 3 \n",
    "\n",
    "Для побудови моделі нам потрібна метрика близькості пасажирів. Запрограмуємо функцію обчислення відстані між пасажирами:"
   ]
  },
  {
   "cell_type": "code",
   "execution_count": 24,
   "metadata": {
    "id": "mQsyqaYL50dO"
   },
   "outputs": [],
   "source": [
    "def distance(a,b):\n",
    "    d = 0\n",
    "    d += abs(a['Pclass'] - b['Pclass'])\n",
    "    d += a['Sex'] != b['Sex']\n",
    "    d += abs(a['Age'] - b['Age'])\n",
    "    d += abs(a['SibSp'] - b['SibSp'])\n",
    "    d += abs(a['Parch'] - b['Parch'])\n",
    "    d += abs(a['Fare'] - b['Fare'])\n",
    "    d += a['Embarked'] != b['Embarked']\n",
    "    return d/5"
   ]
  },
  {
   "cell_type": "markdown",
   "metadata": {
    "id": "_UVxUXMo50dQ"
   },
   "source": [
    "Метод `KNeighborsClassifier` з біблиотеки `sklearn` занадто вимоглив до типів даних. Запрограмуємо метод `k` найближчих сусідів вручну:"
   ]
  },
  {
   "cell_type": "code",
   "execution_count": 23,
   "metadata": {
    "id": "YCypV5eB50dQ"
   },
   "outputs": [
    {
     "data": {
      "text/plain": [
       "array([[0., 0.],\n",
       "       [0., 0.],\n",
       "       [0., 0.],\n",
       "       ...,\n",
       "       [0., 0.],\n",
       "       [0., 0.],\n",
       "       [0., 0.]])"
      ]
     },
     "execution_count": 23,
     "metadata": {},
     "output_type": "execute_result"
    }
   ],
   "source": [
    "import numpy as np\n",
    "import tqdm\n",
    "np.zeros((data.shape[0] - 1, 2))"
   ]
  },
  {
   "cell_type": "code",
   "execution_count": 22,
   "metadata": {
    "id": "D-hqia5450dR"
   },
   "outputs": [],
   "source": [
    "def myKNeighborsClassifier(learnData, K, passengerIndexForPrediction):\n",
    "    dists = np.zeros((learnData.shape[0] - 1, 2))\n",
    "    i = 0\n",
    "    for idx, row in learnData.iterrows():\n",
    "        if idx != passengerIndexForPrediction:  #LOO метод контролю похибки\n",
    "            dists[i][0] = distance(learnData.loc[passengerIndexForPrediction,], row)\n",
    "            dists[i][1] = row['Survived']\n",
    "            i += 1\n",
    "    dists = sorted(dists, key = lambda pair: pair[0])\n",
    "    prediction = 0\n",
    "    for i in range(K): \n",
    "        prediction += dists[i][1]\n",
    "        print(prediction)\n",
    "    prediction /= K\n",
    "    return round(prediction)"
   ]
  },
  {
   "cell_type": "markdown",
   "metadata": {
    "id": "zktv4deB50dS"
   },
   "source": [
    "Запустіть передбачення для всіх пасажирів судна та, використовуючи LOO-контроль помилки оцініть якість класифікації:"
   ]
  },
  {
   "cell_type": "code",
   "execution_count": 26,
   "metadata": {
    "id": "fn-YuRCm50dS"
   },
   "outputs": [
    {
     "name": "stderr",
     "output_type": "stream",
     "text": [
      "100%|████████████████████████████████████████████████████████████████████████████████| 714/714 [02:21<00:00,  5.03it/s]"
     ]
    },
    {
     "name": "stdout",
     "output_type": "stream",
     "text": [
      "Точність моделі без тестової вибірка: 0.735\n"
     ]
    },
    {
     "name": "stderr",
     "output_type": "stream",
     "text": [
      "\n"
     ]
    }
   ],
   "source": [
    "accuracy = 0\n",
    "for idx, row in tqdm.tqdm(data.iterrows(), total=len(data)):\n",
    "    accuracy += row['Survived'] == myKNeighborsClassifier(data, 3, idx)\n",
    "acc = accuracy/data.shape[0]\n",
    "print(f'Точність моделі без тестової вибірка: {acc:.3f}')"
   ]
  },
  {
   "cell_type": "markdown",
   "metadata": {},
   "source": [
    " **Same Task my Sklearn** "
   ]
  },
  {
   "cell_type": "code",
   "execution_count": 5,
   "metadata": {},
   "outputs": [],
   "source": [
    "##Same Task by Sklearn (На доп бали і для перевірки)\n",
    "from sklearn.model_selection import train_test_split\n",
    "from sklearn.preprocessing import LabelEncoder\n",
    "from sklearn.neighbors import KNeighborsClassifier"
   ]
  },
  {
   "cell_type": "code",
   "execution_count": 8,
   "metadata": {},
   "outputs": [
    {
     "name": "stdout",
     "output_type": "stream",
     "text": [
      "Точність моделі на тестовій вибірці: 0.676\n"
     ]
    }
   ],
   "source": [
    "# Перетворення категоріальних ознак в числові\n",
    "label_encoder = LabelEncoder()\n",
    "data['Sex'] = label_encoder.fit_transform(data['Sex'])\n",
    "data['Embarked'] = label_encoder.fit_transform(data['Embarked'].astype(str))\n",
    "\n",
    "# Вибірка стовпців, які будуть використанні для передбачення\n",
    "data = data[['Pclass', 'Sex', 'Age', 'SibSp', 'Parch', 'Fare', 'Embarked', 'Survived']]\n",
    "\n",
    "# Розділ даних на ознаки і цільову змінну\n",
    "X = data.drop('Survived', axis=1)\n",
    "y = data['Survived']\n",
    "\n",
    "# Розділ даних на тренувальну та тестову вибірки\n",
    "X_train, X_test, y_train, y_test = train_test_split(X, y, test_size=0.15, random_state=46)\n",
    "\n",
    "# Побудова моделы KNN та навчання її на тренувальних даних\n",
    "knn = KNeighborsClassifier(n_neighbors=5)  # Ви можете змінити кількість сусідів за необхідності\n",
    "knn.fit(X_train, y_train)\n",
    "\n",
    "# Оцінка результату на тестових даних\n",
    "accuracy = knn.score(X_test, y_test)\n",
    "print(f'Точність моделі на тестовій вибірці: {accuracy:.3f}')"
   ]
  },
  {
   "cell_type": "markdown",
   "metadata": {
    "id": "7vzbrf6l50dT"
   },
   "source": [
    "Підберіть доданки в метриці, ії ваги та кількість сусідів так, щоб кількість класифікацій була максимальна. \n",
    "\n",
    "Якщо функція на `python` працює довго, використовуйте її аналог на  на \n",
    "С++:  `KNeighborsClassifier.cpp.` \n",
    "\n",
    "Компіляція на Linux виконується командою \n",
    "\n",
    "    g++ -O2 KNeighborsClassifier.cpp -o  KNeighborsClassifier\n",
    "\n",
    "\n",
    "Запуск: \n",
    "\n",
    "    ./KNeighborsClassifier\n",
    "    \n",
    "Тому, хто побудує метрику з найкращею якістю: +5 бонусних балів. Також тають бути висновки та обгрунтування результату."
   ]
  },
  {
   "cell_type": "markdown",
   "metadata": {
    "id": "UAeznoqg50dT"
   },
   "source": [
    "## 4 \n",
    "\n",
    "\n",
    "Створіть копію функції `myKNeighborsClassifier` та змініть її так, щоб вона рахувала виступ об'єкту. Дайте їй назву `calcMargin`. \n",
    "\n",
    "Підрахуйте виступи для всіх об'єктів та виведіть інформацію про п'ять об'єктів з мінімальним виступом (вбросу завад) та п'яти об'єктів з максимальним виступом (еталонах). В коментарях розпишіть пояснення отриманих даних."
   ]
  },
  {
   "cell_type": "code",
   "execution_count": 7,
   "metadata": {
    "id": "GClXwO8o50dU"
   },
   "outputs": [],
   "source": [
    "def calcMargin(learnData, K, passengerIndexForPrediction):\n",
    "    dists = np.zeros((learnData.shape[0] - 1, 2))\n",
    "    i = 0\n",
    "    for idx, row in learnData.iterrows():\n",
    "        if idx != passengerIndexForPrediction:\n",
    "            dists[i][0] = distance(learnData.loc[passengerIndexForPrediction,], row)\n",
    "            dists[i][1] = row['Survived']\n",
    "            i += 1\n",
    "    dists = sorted(dists, key=lambda pair: pair[0])\n",
    "\n",
    "    # Розрахунок виступу (margin) для об'єкту\n",
    "    margin = 0\n",
    "    for i in range(K):\n",
    "        margin += dists[i][1]\n",
    "\n",
    "    return margin"
   ]
  },
  {
   "cell_type": "code",
   "execution_count": 17,
   "metadata": {
    "id": "hPioYDmg50dV"
   },
   "outputs": [
    {
     "name": "stderr",
     "output_type": "stream",
     "text": [
      "100%|████████████████████████████████████████████████████████████████████████████████| 714/714 [01:41<00:00,  7.01it/s]"
     ]
    },
    {
     "name": "stdout",
     "output_type": "stream",
     "text": [
      "П'ять об'єктів з мінімальним виступом:\n",
      "PassengerId                          1\n",
      "Survived                             0\n",
      "Pclass                               3\n",
      "Name           Braund, Mr. Owen Harris\n",
      "Sex                               male\n",
      "Age                               22.0\n",
      "SibSp                                1\n",
      "Parch                                0\n",
      "Ticket                       A/5 21171\n",
      "Fare                              7.25\n",
      "Cabin                              NaN\n",
      "Embarked                             S\n",
      "Name: 0, dtype: object\n",
      "PassengerId                           5\n",
      "Survived                              0\n",
      "Pclass                                3\n",
      "Name           Allen, Mr. William Henry\n",
      "Sex                                male\n",
      "Age                                35.0\n",
      "SibSp                                 0\n",
      "Parch                                 0\n",
      "Ticket                           373450\n",
      "Fare                               8.05\n",
      "Cabin                               NaN\n",
      "Embarked                              S\n",
      "Name: 4, dtype: object\n",
      "PassengerId                          12\n",
      "Survived                              1\n",
      "Pclass                                1\n",
      "Name           Bonnell, Miss. Elizabeth\n",
      "Sex                              female\n",
      "Age                                58.0\n",
      "SibSp                                 0\n",
      "Parch                                 0\n",
      "Ticket                           113783\n",
      "Fare                              26.55\n",
      "Cabin                              C103\n",
      "Embarked                              S\n",
      "Name: 11, dtype: object\n",
      "PassengerId                                13\n",
      "Survived                                    0\n",
      "Pclass                                      3\n",
      "Name           Saundercock, Mr. William Henry\n",
      "Sex                                      male\n",
      "Age                                      20.0\n",
      "SibSp                                       0\n",
      "Parch                                       0\n",
      "Ticket                              A/5. 2151\n",
      "Fare                                     8.05\n",
      "Cabin                                     NaN\n",
      "Embarked                                    S\n",
      "Name: 12, dtype: object\n",
      "PassengerId                                  16\n",
      "Survived                                      1\n",
      "Pclass                                        2\n",
      "Name           Hewlett, Mrs. (Mary D Kingcome) \n",
      "Sex                                      female\n",
      "Age                                        55.0\n",
      "SibSp                                         0\n",
      "Parch                                         0\n",
      "Ticket                                   248706\n",
      "Fare                                       16.0\n",
      "Cabin                                       NaN\n",
      "Embarked                                      S\n",
      "Name: 15, dtype: object\n",
      "\n",
      "П'ять об'єктів з максимальним виступом:\n",
      "PassengerId                                                  760\n",
      "Survived                                                       1\n",
      "Pclass                                                         1\n",
      "Name           Rothes, the Countess. of (Lucy Noel Martha Dye...\n",
      "Sex                                                       female\n",
      "Age                                                         33.0\n",
      "SibSp                                                          0\n",
      "Parch                                                          0\n",
      "Ticket                                                    110152\n",
      "Fare                                                        86.5\n",
      "Cabin                                                        B77\n",
      "Embarked                                                       S\n",
      "Name: 759, dtype: object\n",
      "PassengerId                                          764\n",
      "Survived                                               1\n",
      "Pclass                                                 1\n",
      "Name           Carter, Mrs. William Ernest (Lucile Polk)\n",
      "Sex                                               female\n",
      "Age                                                 36.0\n",
      "SibSp                                                  1\n",
      "Parch                                                  2\n",
      "Ticket                                            113760\n",
      "Fare                                               120.0\n",
      "Cabin                                            B96 B98\n",
      "Embarked                                               S\n",
      "Name: 763, dtype: object\n",
      "PassengerId                                          830\n",
      "Survived                                               1\n",
      "Pclass                                                 1\n",
      "Name           Stone, Mrs. George Nelson (Martha Evelyn)\n",
      "Sex                                               female\n",
      "Age                                                 62.0\n",
      "SibSp                                                  0\n",
      "Parch                                                  0\n",
      "Ticket                                            113572\n",
      "Fare                                                80.0\n",
      "Cabin                                                B28\n",
      "Embarked                                             NaN\n",
      "Name: 829, dtype: object\n",
      "PassengerId                                832\n",
      "Survived                                     1\n",
      "Pclass                                       2\n",
      "Name           Richards, Master. George Sibley\n",
      "Sex                                       male\n",
      "Age                                       0.83\n",
      "SibSp                                        1\n",
      "Parch                                        1\n",
      "Ticket                                   29106\n",
      "Fare                                     18.75\n",
      "Cabin                                      NaN\n",
      "Embarked                                     S\n",
      "Name: 831, dtype: object\n",
      "PassengerId                             888\n",
      "Survived                                  1\n",
      "Pclass                                    1\n",
      "Name           Graham, Miss. Margaret Edith\n",
      "Sex                                  female\n",
      "Age                                    19.0\n",
      "SibSp                                     0\n",
      "Parch                                     0\n",
      "Ticket                               112053\n",
      "Fare                                   30.0\n",
      "Cabin                                   B42\n",
      "Embarked                                  S\n",
      "Name: 887, dtype: object\n"
     ]
    },
    {
     "name": "stderr",
     "output_type": "stream",
     "text": [
      "\n"
     ]
    }
   ],
   "source": [
    "#Підрахунок виступу для всіх об'єктів\n",
    "margins = []\n",
    "for idx, row in tqdm.tqdm(data.iterrows(), total=len(data)):\n",
    "    margin = calcMargin(data, 5, idx)\n",
    "    margins.append((idx, margin))\n",
    "\n",
    "#Сортування об'єктів за виступом\n",
    "sorted_margins = sorted(margins, key=lambda x: x[1])\n",
    "\n",
    "#Виведення п'яти об'єктів з мінімальним і п'ять об'єктів з максимальним виступом\n",
    "top_min_margins = sorted_margins[:5]\n",
    "top_max_margins = sorted_margins[-5:]\n",
    "\n",
    "print(\"П'ять об'єктів з мінімальним виступом:\")\n",
    "for obj in top_min_margins:\n",
    "    print(nc_data.iloc[obj[0]])\n",
    "\n",
    "print(\"\\nП'ять об'єктів з максимальним виступом:\")\n",
    "for obj in top_max_margins:\n",
    "    print(nc_data.iloc[obj[0]])"
   ]
  },
  {
   "cell_type": "code",
   "execution_count": null,
   "metadata": {
    "id": "ecJfRXcY50dW"
   },
   "outputs": [],
   "source": [
    "# місце для коду"
   ]
  },
  {
   "cell_type": "markdown",
   "metadata": {
    "id": "TL6pwoXk50dW"
   },
   "source": [
    "Це легше за все виконати за допомогою фунції `np.argsort`, що повертає індекси елементів у відсортованому ряду:"
   ]
  },
  {
   "cell_type": "code",
   "execution_count": 23,
   "metadata": {
    "id": "cb81kuA350dX",
    "scrolled": true
   },
   "outputs": [],
   "source": [
    "idx = np.argsort(margins)\n",
    "top_min_margins = sorted_margins[:5]\n",
    "top_max_margins = sorted_margins[-5:]"
   ]
  },
  {
   "cell_type": "code",
   "execution_count": 26,
   "metadata": {
    "id": "3cbax_iH50dX"
   },
   "outputs": [
    {
     "name": "stdout",
     "output_type": "stream",
     "text": [
      "Білі ворони(аномалії)\n",
      "PassengerId                          1\n",
      "Survived                             0\n",
      "Pclass                               3\n",
      "Name           Braund, Mr. Owen Harris\n",
      "Sex                               male\n",
      "Age                               22.0\n",
      "SibSp                                1\n",
      "Parch                                0\n",
      "Ticket                       A/5 21171\n",
      "Fare                              7.25\n",
      "Cabin                              NaN\n",
      "Embarked                             S\n",
      "Name: 0, dtype: object\n",
      "PassengerId                           5\n",
      "Survived                              0\n",
      "Pclass                                3\n",
      "Name           Allen, Mr. William Henry\n",
      "Sex                                male\n",
      "Age                                35.0\n",
      "SibSp                                 0\n",
      "Parch                                 0\n",
      "Ticket                           373450\n",
      "Fare                               8.05\n",
      "Cabin                               NaN\n",
      "Embarked                              S\n",
      "Name: 4, dtype: object\n",
      "PassengerId                          12\n",
      "Survived                              1\n",
      "Pclass                                1\n",
      "Name           Bonnell, Miss. Elizabeth\n",
      "Sex                              female\n",
      "Age                                58.0\n",
      "SibSp                                 0\n",
      "Parch                                 0\n",
      "Ticket                           113783\n",
      "Fare                              26.55\n",
      "Cabin                              C103\n",
      "Embarked                              S\n",
      "Name: 11, dtype: object\n",
      "PassengerId                                13\n",
      "Survived                                    0\n",
      "Pclass                                      3\n",
      "Name           Saundercock, Mr. William Henry\n",
      "Sex                                      male\n",
      "Age                                      20.0\n",
      "SibSp                                       0\n",
      "Parch                                       0\n",
      "Ticket                              A/5. 2151\n",
      "Fare                                     8.05\n",
      "Cabin                                     NaN\n",
      "Embarked                                    S\n",
      "Name: 12, dtype: object\n",
      "PassengerId                                  16\n",
      "Survived                                      1\n",
      "Pclass                                        2\n",
      "Name           Hewlett, Mrs. (Mary D Kingcome) \n",
      "Sex                                      female\n",
      "Age                                        55.0\n",
      "SibSp                                         0\n",
      "Parch                                         0\n",
      "Ticket                                   248706\n",
      "Fare                                       16.0\n",
      "Cabin                                       NaN\n",
      "Embarked                                      S\n",
      "Name: 15, dtype: object\n"
     ]
    }
   ],
   "source": [
    "print('Білі ворони(аномалії)')\n",
    "for obj in top_min_margins:\n",
    "    print(nc_data.iloc[obj[0]])"
   ]
  },
  {
   "cell_type": "code",
   "execution_count": 24,
   "metadata": {
    "id": "MuLTU-0E50dY"
   },
   "outputs": [
    {
     "name": "stdout",
     "output_type": "stream",
     "text": [
      "Еталони (характерні об`єкти)\n",
      "PassengerId                                                  760\n",
      "Survived                                                       1\n",
      "Pclass                                                         1\n",
      "Name           Rothes, the Countess. of (Lucy Noel Martha Dye...\n",
      "Sex                                                       female\n",
      "Age                                                         33.0\n",
      "SibSp                                                          0\n",
      "Parch                                                          0\n",
      "Ticket                                                    110152\n",
      "Fare                                                        86.5\n",
      "Cabin                                                        B77\n",
      "Embarked                                                       S\n",
      "Name: 759, dtype: object\n",
      "PassengerId                                          764\n",
      "Survived                                               1\n",
      "Pclass                                                 1\n",
      "Name           Carter, Mrs. William Ernest (Lucile Polk)\n",
      "Sex                                               female\n",
      "Age                                                 36.0\n",
      "SibSp                                                  1\n",
      "Parch                                                  2\n",
      "Ticket                                            113760\n",
      "Fare                                               120.0\n",
      "Cabin                                            B96 B98\n",
      "Embarked                                               S\n",
      "Name: 763, dtype: object\n",
      "PassengerId                                          830\n",
      "Survived                                               1\n",
      "Pclass                                                 1\n",
      "Name           Stone, Mrs. George Nelson (Martha Evelyn)\n",
      "Sex                                               female\n",
      "Age                                                 62.0\n",
      "SibSp                                                  0\n",
      "Parch                                                  0\n",
      "Ticket                                            113572\n",
      "Fare                                                80.0\n",
      "Cabin                                                B28\n",
      "Embarked                                             NaN\n",
      "Name: 829, dtype: object\n",
      "PassengerId                                832\n",
      "Survived                                     1\n",
      "Pclass                                       2\n",
      "Name           Richards, Master. George Sibley\n",
      "Sex                                       male\n",
      "Age                                       0.83\n",
      "SibSp                                        1\n",
      "Parch                                        1\n",
      "Ticket                                   29106\n",
      "Fare                                     18.75\n",
      "Cabin                                      NaN\n",
      "Embarked                                     S\n",
      "Name: 831, dtype: object\n",
      "PassengerId                             888\n",
      "Survived                                  1\n",
      "Pclass                                    1\n",
      "Name           Graham, Miss. Margaret Edith\n",
      "Sex                                  female\n",
      "Age                                    19.0\n",
      "SibSp                                     0\n",
      "Parch                                     0\n",
      "Ticket                               112053\n",
      "Fare                                   30.0\n",
      "Cabin                                   B42\n",
      "Embarked                                  S\n",
      "Name: 887, dtype: object\n"
     ]
    }
   ],
   "source": [
    "print('Еталони (характерні об`єкти)')\n",
    "for obj in top_max_margins:\n",
    "    print(nc_data.iloc[obj[0]])"
   ]
  },
  {
   "cell_type": "markdown",
   "metadata": {},
   "source": [
    "### 5\n",
    "Загальні висвовки по лабраторній роботі:\n",
    "\n",
    "1. Було розподілено об'єкти по певному параметру\n",
    "2. Було розподілено об'єкти по кількох параметрах, повторено побудову графіків розподілу по кільком параметрам\n",
    "3. Було здобуто навички щодо користування K-методом найближчих сусідів\n",
    "4. Поглиблено навички користування K-методом найближчих сусідів, а також опрацювання моделі\n",
    "\n",
    "Виконав студент групи ІСТ-21-1, Дешков Максім\n"
   ]
  }
 ],
 "metadata": {
  "colab": {
   "provenance": []
  },
  "kernelspec": {
   "display_name": "Python 3 (ipykernel)",
   "language": "python",
   "name": "python3"
  },
  "language_info": {
   "codemirror_mode": {
    "name": "ipython",
    "version": 3
   },
   "file_extension": ".py",
   "mimetype": "text/x-python",
   "name": "python",
   "nbconvert_exporter": "python",
   "pygments_lexer": "ipython3",
   "version": "3.11.5"
  }
 },
 "nbformat": 4,
 "nbformat_minor": 4
}
